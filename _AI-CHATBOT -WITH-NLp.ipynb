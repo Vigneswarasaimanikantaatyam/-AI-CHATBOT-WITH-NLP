{
 "cells": [
  {
   "cell_type": "code",
   "execution_count": null,
   "id": "5524ece5-dd53-42cd-8cad-f59cbae2093e",
   "metadata": {},
   "outputs": [],
   "source": [
    "import nltk\n",
    "from nltk.chat.util import Chat, reflections\n",
    "import random\n",
    "\n",
    "# -------------------------\n",
    "# Step 1: Define Chatbot Responses\n",
    "# -------------------------\n",
    "\n",
    "pairs = [\n",
    "    [\"hello|hi|hey\", [\"Hello!\", \"Hey there!\", \"Hi! How can I help you?\"]],\n",
    "    [\"how are you?\", [\"I'm just a chatbot, but I'm doing great! How about you?\"]],\n",
    "    [\"what is your name?\", [\"I'm an AI chatbot built with Python!\"]],\n",
    "    [\"what can you do?\", [\n",
    "        \"I can answer basic questions, chat with you, and help with Python-related queries!\",\n",
    "        \"I can provide information, guide you through coding tasks, and make conversations more engaging.\"\n",
    "    ]],\n",
    "    [\"tell me a joke\", [\n",
    "        \"Why did the programmer quit his job? Because he didn’t get arrays!\",\n",
    "        \"I told my computer I needed a break… now it won’t stop sending me error messages!\"\n",
    "    ]],\n",
    "    [\"exit|bye\", [\"Goodbye!\", \"Have a great day!\", \"See you soon!\"]],\n",
    "]\n",
    "\n",
    "# -------------------------\n",
    "# Step 2: Create Chatbot Instance\n",
    "# -------------------------\n",
    "\n",
    "chatbot = Chat(pairs, reflections)\n",
    "\n",
    "# -------------------------\n",
    "# Step 3: Chatbot Conversation Loop\n",
    "# -------------------------\n",
    "\n",
    "def chatbot_response():\n",
    "    print(\"AI Chatbot: Type 'exit' to stop.\")\n",
    "    while True:\n",
    "        user_input = input(\"You: \").lower()\n",
    "        response = chatbot.respond(user_input)\n",
    "        \n",
    "        if user_input in [\"exit\", \"bye\"]:\n",
    "            print(\"AI Chatbot: Goodbye!\")\n",
    "            break\n",
    "        elif response:\n",
    "            print(\"AI Chatbot:\", response)\n",
    "        else:\n",
    "            print(\"AI Chatbot: I didn't understand that. Try again!\")\n",
    "\n",
    "# Run chatbot\n",
    "chatbot_response()"
   ]
  },
  {
   "cell_type": "code",
   "execution_count": null,
   "id": "b9a04bcf-056d-4717-8844-fdb236bcc015",
   "metadata": {},
   "outputs": [],
   "source": []
  }
 ],
 "metadata": {
  "kernelspec": {
   "display_name": "Python 3 (ipykernel)",
   "language": "python",
   "name": "python3"
  },
  "language_info": {
   "codemirror_mode": {
    "name": "ipython",
    "version": 3
   },
   "file_extension": ".py",
   "mimetype": "text/x-python",
   "name": "python",
   "nbconvert_exporter": "python",
   "pygments_lexer": "ipython3",
   "version": "3.12.4"
  }
 },
 "nbformat": 4,
 "nbformat_minor": 5
}
